{
  "cells": [
    {
      "cell_type": "markdown",
      "metadata": {
        "id": "J8vYkUmom2qs"
      },
      "source": [
        "# **Python Lists**\n",
        "Lists are used to store multiple items in a single variable.\n",
        "\n",
        "**Syntax**\n",
        "```\n",
        "list_name = [item_0, item_1, item_2, ... , item_n]\n",
        "```\n",
        "**Example**\n",
        "```\n",
        "mylist = [\"apple\", \"banana\", \"cherry\"]\n",
        "mylist = [1, 2, 3]\n",
        "mylist = [3.14, 2, \"mmd\", [-1 , 0], True]\n",
        "```"
      ]
    },
    {
      "cell_type": "code",
      "execution_count": 1,
      "metadata": {
        "colab": {
          "base_uri": "https://localhost:8080/"
        },
        "id": "PFEeWRCFZ7YB",
        "outputId": "f8191e4a-8261-448a-e319-3812cdd89eec"
      },
      "outputs": [
        {
          "name": "stdout",
          "output_type": "stream",
          "text": [
            "[14, 15, 13, 16, 15.75, 18.25, 20, 20]\n",
            "<class 'list'>\n"
          ]
        }
      ],
      "source": [
        "numbers = [14, 15, 13, 16, 15.75, 18.25, 20, 20]\n",
        "\n",
        "print(numbers)\n",
        "print(type(numbers))"
      ]
    },
    {
      "cell_type": "markdown",
      "metadata": {},
      "source": [
        "# Access Items\n",
        "List items are indexed and you can access them by referring to the index number:\n",
        "```\n",
        "list[index]\n",
        "```\n",
        "Note: *The first item has index 0.*\n",
        "\n",
        "Range of Indexes:\n",
        "```\n",
        "list[start_index:end_index:step_count]\n",
        "```"
      ]
    },
    {
      "cell_type": "code",
      "execution_count": 13,
      "metadata": {
        "colab": {
          "base_uri": "https://localhost:8080/"
        },
        "id": "raPCPgQ6aP6E",
        "outputId": "f7350d01-1466-4f33-a44d-fbf6dd4ccc90"
      },
      "outputs": [
        {
          "name": "stdout",
          "output_type": "stream",
          "text": [
            "20 15 13 16\n",
            "[13, 16, 15.75]\n"
          ]
        }
      ],
      "source": [
        "print(numbers[0], numbers[1], numbers[2], numbers[3])\n",
        "print(numbers[2:5:1])"
      ]
    },
    {
      "cell_type": "markdown",
      "metadata": {},
      "source": [
        "# Change Item Value"
      ]
    },
    {
      "cell_type": "code",
      "execution_count": 4,
      "metadata": {
        "colab": {
          "base_uri": "https://localhost:8080/"
        },
        "id": "SqIBW5vuapT3",
        "outputId": "26724d12-b0da-4ced-cbd4-63b8f0d3886d"
      },
      "outputs": [
        {
          "name": "stdout",
          "output_type": "stream",
          "text": [
            "[20, 15, 13, 16, 15.75, 18.25, 20, 20]\n"
          ]
        }
      ],
      "source": [
        "numbers[0] = 20\n",
        "print(numbers)"
      ]
    },
    {
      "cell_type": "markdown",
      "metadata": {},
      "source": [
        "# List Length\n",
        "To determine how many items a list has, use the len() function:"
      ]
    },
    {
      "cell_type": "code",
      "execution_count": 5,
      "metadata": {
        "colab": {
          "base_uri": "https://localhost:8080/"
        },
        "id": "DfH-f3s6a-EF",
        "outputId": "7007d2e3-7d0f-4128-cd59-525602396764"
      },
      "outputs": [
        {
          "name": "stdout",
          "output_type": "stream",
          "text": [
            "8\n"
          ]
        }
      ],
      "source": [
        "print(len(numbers))"
      ]
    },
    {
      "cell_type": "markdown",
      "metadata": {},
      "source": [
        "# Append Items\n",
        "To add an item to the end of the list, use the append() method:"
      ]
    },
    {
      "cell_type": "code",
      "execution_count": 15,
      "metadata": {},
      "outputs": [
        {
          "name": "stdout",
          "output_type": "stream",
          "text": [
            "[20, 15, 13, 16, 15.75, 18.25, 20, 20, 10]\n"
          ]
        }
      ],
      "source": [
        "numbers.append(10)\n",
        "print(numbers)"
      ]
    },
    {
      "cell_type": "markdown",
      "metadata": {},
      "source": [
        "# **while loop**\n",
        "With the while loop we can execute a set of statements as long as a condition is true.\n",
        "\n",
        "**Syntax**\n",
        "```\n",
        "while condition:\n",
        "    # Code\n",
        "```\n",
        "**Example**  \n",
        "Generate numbers 1 to 10 with while loop"
      ]
    },
    {
      "cell_type": "code",
      "execution_count": 14,
      "metadata": {
        "colab": {
          "base_uri": "https://localhost:8080/"
        },
        "id": "LuWtfmB8dUF-",
        "outputId": "06890ff3-b477-4c38-8b54-495a2dca8005"
      },
      "outputs": [
        {
          "name": "stdout",
          "output_type": "stream",
          "text": [
            "1 2 3 4 5 6 7 8 9 10 "
          ]
        }
      ],
      "source": [
        "i = 1\n",
        "while i <= 10:\n",
        "  print(i, end=' ')\n",
        "  i += 1"
      ]
    },
    {
      "cell_type": "markdown",
      "metadata": {},
      "source": [
        "# Example\n",
        "Calculate the average of the list"
      ]
    },
    {
      "cell_type": "code",
      "execution_count": 7,
      "metadata": {
        "colab": {
          "base_uri": "https://localhost:8080/"
        },
        "id": "69DK71N1dnr1",
        "outputId": "5ee7b916-6c36-49e6-b5db-68d0a28ef017"
      },
      "outputs": [
        {
          "name": "stdout",
          "output_type": "stream",
          "text": [
            "sum: 138.0\n",
            "average: 17.25\n"
          ]
        }
      ],
      "source": [
        "sum_val = 0\n",
        "i = 0\n",
        "while i < len(numbers):\n",
        "  sum_val += numbers[i]\n",
        "  i += 1\n",
        "\n",
        "print('sum:', sum_val)\n",
        "print('average:', sum_val / len(numbers))"
      ]
    }
  ],
  "metadata": {
    "colab": {
      "provenance": []
    },
    "kernelspec": {
      "display_name": "Python 3",
      "name": "python3"
    },
    "language_info": {
      "codemirror_mode": {
        "name": "ipython",
        "version": 3
      },
      "file_extension": ".py",
      "mimetype": "text/x-python",
      "name": "python",
      "nbconvert_exporter": "python",
      "pygments_lexer": "ipython3",
      "version": "3.12.0"
    }
  },
  "nbformat": 4,
  "nbformat_minor": 0
}

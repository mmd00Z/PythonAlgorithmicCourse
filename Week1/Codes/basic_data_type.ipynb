{
  "cells": [
    {
      "cell_type": "markdown",
      "metadata": {
        "id": "bEmBqgK_M2ev"
      },
      "source": [
        "# **variable deceleration** <br>\n",
        "Variable_name = value\n",
        "\n",
        "example:\n",
        "```\n",
        "a = '3'\n",
        "b = 3\n",
        "c = 3.0\n",
        "d = True\n",
        "```\n",
        "\n",
        "# **Basic Data Type**\n",
        "str (string)\n",
        "int (i)\n",
        "\n",
        "\n"
      ]
    },
    {
      "cell_type": "code",
      "execution_count": 1,
      "metadata": {
        "colab": {
          "base_uri": "https://localhost:8080/"
        },
        "id": "_DjAzXSgDRD9",
        "outputId": "5729e0fd-7334-4200-90de-fe06ff9aaa27"
      },
      "outputs": [
        {
          "name": "stdout",
          "output_type": "stream",
          "text": [
            "<class 'str'>\n",
            "<class 'int'>\n",
            "<class 'float'>\n",
            "<class 'bool'>\n"
          ]
        }
      ],
      "source": [
        "a = '3'\n",
        "b = 3\n",
        "c = 3.0\n",
        "d = True\n",
        "print(type(a))\n",
        "print(type(b))\n",
        "print(type(c))\n",
        "print(type(d))"
      ]
    },
    {
      "cell_type": "code",
      "execution_count": 2,
      "metadata": {
        "colab": {
          "base_uri": "https://localhost:8080/",
          "height": 0
        },
        "id": "VNL9FkhdE-8m",
        "outputId": "8d93fe33-6219-46f3-ac73-8877a38f1ef6"
      },
      "outputs": [
        {
          "name": "stdout",
          "output_type": "stream",
          "text": [
            "5 20\n",
            "mmd mmdmmdmmdmmd\n",
            "False 0\n",
            "True 4\n"
          ]
        }
      ],
      "source": [
        "b = 5\n",
        "print(b, b * 4)\n",
        "a = 'mmd'\n",
        "print(a, a * 4)\n",
        "d = False\n",
        "print(d, d * 4)\n",
        "d = True\n",
        "print(d, d * 4)"
      ]
    },
    {
      "cell_type": "code",
      "execution_count": 3,
      "metadata": {
        "colab": {
          "base_uri": "https://localhost:8080/"
        },
        "id": "5KNPvdbtGC6w",
        "outputId": "fcfd8006-5f54-4792-ff4b-bfdbaeaa6f1e"
      },
      "outputs": [
        {
          "name": "stdout",
          "output_type": "stream",
          "text": [
            "3 3\n",
            "3.6 3\n",
            "True 1\n"
          ]
        }
      ],
      "source": [
        "a = '3'\n",
        "c = 3.6\n",
        "d = True\n",
        "print(a, int(a))\n",
        "print(c, int(c))\n",
        "print(d, int(d))"
      ]
    }
  ],
  "metadata": {
    "colab": {
      "provenance": []
    },
    "kernelspec": {
      "display_name": "Python 3",
      "name": "python3"
    },
    "language_info": {
      "codemirror_mode": {
        "name": "ipython",
        "version": 3
      },
      "file_extension": ".py",
      "mimetype": "text/x-python",
      "name": "python",
      "nbconvert_exporter": "python",
      "pygments_lexer": "ipython3",
      "version": "3.12.0"
    }
  },
  "nbformat": 4,
  "nbformat_minor": 0
}

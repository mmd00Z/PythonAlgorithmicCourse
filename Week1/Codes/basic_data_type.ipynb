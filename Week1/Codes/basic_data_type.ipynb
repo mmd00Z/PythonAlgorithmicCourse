{
  "cells": [
    {
      "cell_type": "markdown",
      "metadata": {
        "id": "bEmBqgK_M2ev"
      },
      "source": [
        "# **variable deceleration** <br>\n",
        "Variable_name = value\n",
        "\n",
        "example:\n",
        "```\n",
        "a = '3'\n",
        "b = 3\n",
        "c = 3.0\n",
        "```\n",
        "\n",
        "# **Basic Data Type**\n",
        "str (string)\n",
        "int (i)\n",
        "\n",
        "\n"
      ]
    },
    {
      "cell_type": "code",
      "execution_count": null,
      "metadata": {
        "colab": {
          "base_uri": "https://localhost:8080/"
        },
        "id": "_DjAzXSgDRD9",
        "outputId": "5729e0fd-7334-4200-90de-fe06ff9aaa27"
      },
      "outputs": [
        {
          "name": "stdout",
          "output_type": "stream",
          "text": [
            "<class 'str'>\n",
            "<class 'int'>\n",
            "<class 'float'>\n"
          ]
        }
      ],
      "source": [
        "a = '3'\n",
        "b = 3\n",
        "c = 3.0\n",
        "print(type(a))\n",
        "print(type(b))\n",
        "print(type(c))"
      ]
    },
    {
      "cell_type": "code",
      "execution_count": 1,
      "metadata": {
        "colab": {
          "base_uri": "https://localhost:8080/",
          "height": 0
        },
        "id": "VNL9FkhdE-8m",
        "outputId": "8d93fe33-6219-46f3-ac73-8877a38f1ef6"
      },
      "outputs": [
        {
          "name": "stdout",
          "output_type": "stream",
          "text": [
            "5 20\n",
            "mmd mmdmmdmmdmmd\n"
          ]
        }
      ],
      "source": [
        "b = 5\n",
        "print(b, b * 4)\n",
        "a = 'mmd'\n",
        "print(a, a * 4)"
      ]
    },
    {
      "cell_type": "code",
      "execution_count": null,
      "metadata": {
        "colab": {
          "base_uri": "https://localhost:8080/"
        },
        "id": "5KNPvdbtGC6w",
        "outputId": "fcfd8006-5f54-4792-ff4b-bfdbaeaa6f1e"
      },
      "outputs": [
        {
          "name": "stdout",
          "output_type": "stream",
          "text": [
            "3.6 3\n"
          ]
        }
      ],
      "source": [
        "c = 3.6\n",
        "print(c, int(c))"
      ]
    }
  ],
  "metadata": {
    "colab": {
      "provenance": []
    },
    "kernelspec": {
      "display_name": "Python 3",
      "name": "python3"
    },
    "language_info": {
      "name": "python"
    }
  },
  "nbformat": 4,
  "nbformat_minor": 0
}

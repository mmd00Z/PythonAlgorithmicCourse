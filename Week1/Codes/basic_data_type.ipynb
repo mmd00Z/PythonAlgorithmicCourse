{
  "nbformat": 4,
  "nbformat_minor": 0,
  "metadata": {
    "colab": {
      "provenance": []
    },
    "kernelspec": {
      "name": "python3",
      "display_name": "Python 3"
    },
    "language_info": {
      "name": "python"
    }
  },
  "cells": [
    {
      "cell_type": "markdown",
      "source": [],
      "metadata": {
        "id": "Ugg7E_Z3WUqW"
      }
    },
    {
      "cell_type": "markdown",
      "source": [
        "# **variable deceleration** <br>\n",
        "Variable_name = value\n",
        "\n",
        "example:\n",
        "```\n",
        "a = '3'\n",
        "b = 3\n",
        "c = 3.0\n",
        "```\n",
        "\n",
        "# **Basic Data Type**\n",
        "str (string)\n",
        "int (i)\n",
        "\n",
        "\n"
      ],
      "metadata": {
        "id": "bEmBqgK_M2ev"
      }
    },
    {
      "cell_type": "code",
      "execution_count": null,
      "metadata": {
        "colab": {
          "base_uri": "https://localhost:8080/"
        },
        "id": "_DjAzXSgDRD9",
        "outputId": "5729e0fd-7334-4200-90de-fe06ff9aaa27"
      },
      "outputs": [
        {
          "output_type": "stream",
          "name": "stdout",
          "text": [
            "<class 'str'>\n",
            "<class 'int'>\n",
            "<class 'float'>\n"
          ]
        }
      ],
      "source": [
        "a = '3'\n",
        "b = 3\n",
        "c = 3.0\n",
        "print(type(a))\n",
        "print(type(b))\n",
        "print(type(c))"
      ]
    },
    {
      "cell_type": "code",
      "source": [
        "b = 5\n",
        "print(b, b * 4)\n",
        "a = 'mmd'\n",
        "print(a, a * 4)"
      ],
      "metadata": {
        "colab": {
          "base_uri": "https://localhost:8080/",
          "height": 0
        },
        "id": "VNL9FkhdE-8m",
        "outputId": "8d93fe33-6219-46f3-ac73-8877a38f1ef6"
      },
      "execution_count": 1,
      "outputs": [
        {
          "output_type": "stream",
          "name": "stdout",
          "text": [
            "5 20\n",
            "mmd mmdmmdmmdmmd\n"
          ]
        }
      ]
    },
    {
      "cell_type": "code",
      "source": [
        "c = 3.6\n",
        "print(c, int(c))"
      ],
      "metadata": {
        "colab": {
          "base_uri": "https://localhost:8080/"
        },
        "id": "5KNPvdbtGC6w",
        "outputId": "fcfd8006-5f54-4792-ff4b-bfdbaeaa6f1e"
      },
      "execution_count": null,
      "outputs": [
        {
          "output_type": "stream",
          "name": "stdout",
          "text": [
            "3.6 3\n"
          ]
        }
      ]
    }
  ]
}
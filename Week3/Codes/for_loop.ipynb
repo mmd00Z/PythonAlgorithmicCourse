{
  "cells": [
    {
      "cell_type": "markdown",
      "metadata": {
        "id": "t22CHq4nlNVp"
      },
      "source": [
        "# **For Loop**\n",
        "A for loop is used for iterating over a sequence (that is either a list, a tuple, a dictionary, a set, or a string).\n",
        "This  is  less  like  the  for  keyword  in  other  programming  languages,  and  works  more  like  an  iterator method as found in other object-orientated programming languages.\n",
        "With the for loop we can execute a set of statements, once for each item in a list, tuple, set etc.\n",
        "\n",
        "**Syntax**\n",
        "```\n",
        "for x in my_list:\n",
        "  # Code\n",
        "```\n",
        "**Example**\n",
        "```\n",
        "fruits = [\"apple\", \"banana\", \"cherry\"]\n",
        "for x in fruits:\n",
        "  print(x)\n",
        "```\n",
        "\n",
        "\n"
      ]
    },
    {
      "cell_type": "code",
      "execution_count": 2,
      "metadata": {
        "colab": {
          "base_uri": "https://localhost:8080/"
        },
        "id": "dJZ47HESm4oO",
        "outputId": "41fc83f8-7c25-4555-d6bb-31e8fc558ad2"
      },
      "outputs": [
        {
          "name": "stdout",
          "output_type": "stream",
          "text": [
            "3.14 2 mmd Ali True "
          ]
        }
      ],
      "source": [
        "mylist = [3.14, 2, \"mmd\", 'Ali', True]\n",
        "for x in mylist:\n",
        "  print(x, end=' ')"
      ]
    },
    {
      "cell_type": "markdown",
      "metadata": {
        "id": "RcHhwZIPmg2J"
      },
      "source": [
        "## **range Function**\n",
        "To loop through a set of code a specified number of times, we can use the range() function,\n",
        "The range() function returns a sequence of numbers, starting from 0 by default, and increments by 1 (by default), and ends at a specified number.\n",
        "\n",
        "**Syntax**\n",
        "```\n",
        "range(start, end, step)\n",
        "```"
      ]
    },
    {
      "cell_type": "code",
      "execution_count": 7,
      "metadata": {
        "colab": {
          "base_uri": "https://localhost:8080/"
        },
        "id": "0HeF_B9Fn2vT",
        "outputId": "d65549fa-3bfe-47f1-9974-d3f27c279c74"
      },
      "outputs": [
        {
          "name": "stdout",
          "output_type": "stream",
          "text": [
            "1 2 3 4 5 6 7 8 9 10 "
          ]
        }
      ],
      "source": [
        "for i in range(1, 11):\n",
        "  print(i, end=' ')"
      ]
    },
    {
      "cell_type": "code",
      "execution_count": 8,
      "metadata": {
        "colab": {
          "base_uri": "https://localhost:8080/"
        },
        "id": "RUHtqN_uoR_a",
        "outputId": "ed761885-c81c-42ad-86f5-31899d913390"
      },
      "outputs": [
        {
          "name": "stdout",
          "output_type": "stream",
          "text": [
            "2 4 6 8 10 12 14 16 18 20 "
          ]
        }
      ],
      "source": [
        "for i in range(2, 21, 2):\n",
        "  print(i, end=' ')"
      ]
    },
    {
      "cell_type": "code",
      "execution_count": 9,
      "metadata": {
        "colab": {
          "base_uri": "https://localhost:8080/"
        },
        "id": "SfKAM_qmohE2",
        "outputId": "e0ea5e2e-fbf7-4475-d7e8-c046711561a8"
      },
      "outputs": [
        {
          "name": "stdout",
          "output_type": "stream",
          "text": [
            "sum: 132.0\n",
            "average: 16.5\n"
          ]
        }
      ],
      "source": [
        "numbers = [14, 15, 13, 16, 15.75, 18.25, 20, 20]\n",
        "\n",
        "sum_val = 0\n",
        "for i in numbers:\n",
        "  sum_val += i\n",
        "\n",
        "print('sum:', sum_val)\n",
        "print('average:', sum_val / len(numbers))"
      ]
    },
    {
      "cell_type": "code",
      "execution_count": 10,
      "metadata": {
        "colab": {
          "base_uri": "https://localhost:8080/"
        },
        "id": "MZWWVK9ro60Z",
        "outputId": "81f6138c-8139-4a2e-fb6d-42981d6454ef"
      },
      "outputs": [
        {
          "name": "stdout",
          "output_type": "stream",
          "text": [
            "sum: 132.0\n",
            "average: 16.5\n"
          ]
        }
      ],
      "source": [
        "sum_val = 0\n",
        "for i in range(len(numbers)):\n",
        "  sum_val += numbers[i]\n",
        "\n",
        "print('sum:', sum_val)\n",
        "print('average:', sum_val / len(numbers))"
      ]
    }
  ],
  "metadata": {
    "colab": {
      "provenance": []
    },
    "kernelspec": {
      "display_name": "Python 3",
      "name": "python3"
    },
    "language_info": {
      "name": "python"
    }
  },
  "nbformat": 4,
  "nbformat_minor": 0
}
